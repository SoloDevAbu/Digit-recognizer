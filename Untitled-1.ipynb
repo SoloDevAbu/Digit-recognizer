{
 "cells": [
  {
   "cell_type": "code",
   "execution_count": null,
   "id": "fea381cc",
   "metadata": {},
   "outputs": [],
   "source": [
    "import numpy as np\n",
    "import matplotlib.pyplot as plt\n",
    "import keras\n",
    "from keras.datasets import mnist\n",
    "\n",
    "\n",
    "from keras.models import Sequential\n",
    "from keras.layers import Dense, Conv2D, MaxPool2D, Flatten, Dropout"
   ]
  },
  {
   "cell_type": "markdown",
   "id": "626cdae4",
   "metadata": {},
   "source": [
    "# Get the data and pre-process"
   ]
  },
  {
   "cell_type": "code",
   "execution_count": null,
   "id": "7826696d",
   "metadata": {},
   "outputs": [],
   "source": [
    "(X_train, y_train), (X_test, y_test) = mnist.load_data()\n",
    "X_train.shape, y_train.shape, X_test.shape, y_test.shape"
   ]
  },
  {
   "cell_type": "code",
   "execution_count": 6,
   "id": "3e15c46d",
   "metadata": {},
   "outputs": [],
   "source": [
    "def plot_input_img(i):\n",
    "  plt.imshow(X_train[i], cmap= 'binary')\n",
    "  plt.title(y_train[i])\n",
    "  plt.show()"
   ]
  },
  {
   "cell_type": "code",
   "execution_count": null,
   "id": "50d02915",
   "metadata": {},
   "outputs": [],
   "source": [
    "for i in range(10):\n",
    "  plot_input_img(i)"
   ]
  },
  {
   "cell_type": "code",
   "execution_count": 8,
   "id": "1da5c8bc",
   "metadata": {},
   "outputs": [],
   "source": [
    "#PReprocess the image\n",
    "#normalizing the imae to [0,1] range\n",
    "X_train = X_train.astype(np.float32)/255\n",
    "X_test = X_test.astype(np.float32)/255\n",
    "\n",
    "#Reshapr / expand the dimension of images to (28, 28, 1)\n",
    "X_train = np.expand_dims(X_train, -1)\n",
    "X_test = np.expand_dims(X_test, -1)\n",
    "\n",
    "#convert classes to one hot vector\n",
    "y_train = keras.utils.to_categorical(y_train)\n",
    "y_test = keras.utils.to_categorical(y_test)"
   ]
  },
  {
   "cell_type": "code",
   "execution_count": null,
   "id": "94e70ab0",
   "metadata": {},
   "outputs": [],
   "source": [
    "model = Sequential()\n",
    "\n",
    "model.add(Conv2D(32, (3,3), input_shape = (28,28,1), activation= 'relu'))\n",
    "model.add(MaxPool2D(2,2))\n",
    "\n",
    "model.add(Conv2D(32, (3,3), activation= 'relu'))\n",
    "model.add(MaxPool2D(2,2))\n",
    "\n",
    "model.add(Flatten())\n",
    "\n",
    "model.add(Dropout(0.25))\n",
    "model.add(Dense(10, activation= 'softmax'))"
   ]
  },
  {
   "cell_type": "code",
   "execution_count": null,
   "id": "69520772",
   "metadata": {},
   "outputs": [],
   "source": [
    "model.summary()"
   ]
  },
  {
   "cell_type": "code",
   "execution_count": 9,
   "id": "80ecd770",
   "metadata": {},
   "outputs": [],
   "source": [
    "model.compile(optimizer= 'adam', loss= keras.losses.categorical_crossentropy, metrics= ['accuracy'])"
   ]
  },
  {
   "cell_type": "code",
   "execution_count": 10,
   "id": "160953b2",
   "metadata": {},
   "outputs": [],
   "source": [
    "# Callbacks\n",
    "from keras.callbacks import EarlyStopping, ModelCheckpoint\n",
    "\n",
    "# Earlystopping\n",
    "es = EarlyStopping(monitor = 'val_accuracy', min_delta = 0.01, patience= 4, verbose= 1)\n",
    "\n",
    "#Model Checkpoint\n",
    "mc = ModelCheckpoint('./basemodel.h5', monitor= 'val_accuracy', verbose= 1, save_best_only= True)\n",
    "\n",
    "cb = [es, mc]"
   ]
  },
  {
   "cell_type": "code",
   "execution_count": null,
   "id": "bd7811bd",
   "metadata": {},
   "outputs": [],
   "source": [
    "his = model.fit(X_train, y_train, epochs= 10, validation_split= 0.3, callbacks= cb)"
   ]
  },
  {
   "cell_type": "code",
   "execution_count": null,
   "id": "ab90e94d",
   "metadata": {},
   "outputs": [],
   "source": [
    "model_S = keras.models.load_model(\"path/to/ml/model/basemodel.h5\")"
   ]
  },
  {
   "cell_type": "code",
   "execution_count": null,
   "id": "24c9b972",
   "metadata": {},
   "outputs": [],
   "source": [
    "score = model_S.evaluate(X_test, y_test)\n",
    "print(f\"Model Accuracy is {score[1]}\")"
   ]
  }
 ],
 "metadata": {
  "kernelspec": {
   "display_name": ".venv",
   "language": "python",
   "name": "python3"
  },
  "language_info": {
   "codemirror_mode": {
    "name": "ipython",
    "version": 3
   },
   "file_extension": ".py",
   "mimetype": "text/x-python",
   "name": "python",
   "nbconvert_exporter": "python",
   "pygments_lexer": "ipython3",
   "version": "3.12.3"
  }
 },
 "nbformat": 4,
 "nbformat_minor": 5
}
